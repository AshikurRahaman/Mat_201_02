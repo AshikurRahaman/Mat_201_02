{
 "cells": [
  {
   "cell_type": "markdown",
   "metadata": {},
   "source": [
    "11. Randomly generate a 9 × 9 list where the entries are integers between 1 and 9 with no repeat entries in any row or in any column."
   ]
  },
  {
   "cell_type": "code",
   "execution_count": 16,
   "metadata": {},
   "outputs": [
    {
     "name": "stdout",
     "output_type": "stream",
     "text": [
      "2 5 6 4 1 9 8 7 3 \n",
      "7 9 5 4 3 1 2 6 8 \n",
      "3 5 7 2 1 9 4 6 8 \n",
      "1 5 6 7 3 9 4 2 8 \n",
      "9 8 6 2 3 5 4 7 1 \n",
      "1 4 6 8 2 7 5 3 9 \n",
      "8 4 9 7 3 6 2 5 1 \n",
      "3 5 9 1 7 2 6 8 4 \n",
      "4 3 9 8 7 5 6 1 2 \n"
     ]
    }
   ],
   "source": [
    "import random\n",
    "positions = []\n",
    "for x in range(9):\n",
    "    for y in range(9):\n",
    "        f = random.randrange(9)+1\n",
    "        while positions.count(f)!=0:\n",
    "            f = random.randrange(9)+1\n",
    "        positions.append(f)\n",
    "        print(f, end=\" \")\n",
    "    positions.clear()\n",
    "    print()\n"
   ]
  },
  {
   "cell_type": "code",
   "execution_count": null,
   "metadata": {},
   "outputs": [],
   "source": []
  },
  {
   "cell_type": "code",
   "execution_count": null,
   "metadata": {},
   "outputs": [],
   "source": []
  }
 ],
 "metadata": {
  "kernelspec": {
   "display_name": "Python 3",
   "language": "python",
   "name": "python3"
  },
  "language_info": {
   "codemirror_mode": {
    "name": "ipython",
    "version": 3
   },
   "file_extension": ".py",
   "mimetype": "text/x-python",
   "name": "python",
   "nbconvert_exporter": "python",
   "pygments_lexer": "ipython3",
   "version": "3.6.5"
  }
 },
 "nbformat": 4,
 "nbformat_minor": 2
}
